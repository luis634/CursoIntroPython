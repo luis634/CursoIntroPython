{
 "cells": [
  {
   "cell_type": "markdown",
   "metadata": {},
   "source": [
    "# Manual de la Nave"
   ]
  },
  {
   "cell_type": "code",
   "execution_count": 2,
   "metadata": {},
   "outputs": [
    {
     "name": "stdout",
     "output_type": "stream",
     "text": [
      "Collecting ipywidgets\n",
      "  Downloading ipywidgets-7.6.5-py2.py3-none-any.whl (121 kB)\n",
      "Requirement already satisfied: ipython-genutils~=0.2.0 in c:\\users\\lcastro\\appdata\\local\\continuum\\anaconda3\\envs\\amiautomation\\lib\\site-packages (from ipywidgets) (0.2.0)\n",
      "Requirement already satisfied: traitlets>=4.3.1 in c:\\users\\lcastro\\appdata\\local\\continuum\\anaconda3\\envs\\amiautomation\\lib\\site-packages (from ipywidgets) (5.0.5)\n",
      "Requirement already satisfied: ipykernel>=4.5.1 in c:\\users\\lcastro\\appdata\\local\\continuum\\anaconda3\\envs\\amiautomation\\lib\\site-packages (from ipywidgets) (5.3.4)\n",
      "Collecting widgetsnbextension~=3.5.0\n",
      "  Downloading widgetsnbextension-3.5.2-py2.py3-none-any.whl (1.6 MB)\n",
      "Collecting jupyterlab-widgets>=1.0.0\n",
      "  Downloading jupyterlab_widgets-1.0.2-py3-none-any.whl (243 kB)\n",
      "Requirement already satisfied: ipython>=4.0.0 in c:\\users\\lcastro\\appdata\\local\\continuum\\anaconda3\\envs\\amiautomation\\lib\\site-packages (from ipywidgets) (7.19.0)\n",
      "Requirement already satisfied: nbformat>=4.2.0 in c:\\users\\lcastro\\appdata\\local\\continuum\\anaconda3\\envs\\amiautomation\\lib\\site-packages (from ipywidgets) (5.0.8)\n",
      "Requirement already satisfied: tornado>=4.2 in c:\\users\\lcastro\\appdata\\local\\continuum\\anaconda3\\envs\\amiautomation\\lib\\site-packages (from ipykernel>=4.5.1->ipywidgets) (6.1)\n",
      "Requirement already satisfied: jupyter-client in c:\\users\\lcastro\\appdata\\local\\continuum\\anaconda3\\envs\\amiautomation\\lib\\site-packages (from ipykernel>=4.5.1->ipywidgets) (6.1.7)\n",
      "Requirement already satisfied: jedi>=0.10 in c:\\users\\lcastro\\appdata\\local\\continuum\\anaconda3\\envs\\amiautomation\\lib\\site-packages (from ipython>=4.0.0->ipywidgets) (0.17.2)\n",
      "Requirement already satisfied: backcall in c:\\users\\lcastro\\appdata\\local\\continuum\\anaconda3\\envs\\amiautomation\\lib\\site-packages (from ipython>=4.0.0->ipywidgets) (0.2.0)\n",
      "Requirement already satisfied: pickleshare in c:\\users\\lcastro\\appdata\\local\\continuum\\anaconda3\\envs\\amiautomation\\lib\\site-packages (from ipython>=4.0.0->ipywidgets) (0.7.5)\n",
      "Requirement already satisfied: colorama in c:\\users\\lcastro\\appdata\\local\\continuum\\anaconda3\\envs\\amiautomation\\lib\\site-packages (from ipython>=4.0.0->ipywidgets) (0.4.4)\n",
      "Requirement already satisfied: prompt-toolkit!=3.0.0,!=3.0.1,<3.1.0,>=2.0.0 in c:\\users\\lcastro\\appdata\\local\\continuum\\anaconda3\\envs\\amiautomation\\lib\\site-packages (from ipython>=4.0.0->ipywidgets) (3.0.8)\n",
      "Requirement already satisfied: setuptools>=18.5 in c:\\users\\lcastro\\appdata\\local\\continuum\\anaconda3\\envs\\amiautomation\\lib\\site-packages (from ipython>=4.0.0->ipywidgets) (51.0.0.post20201207)\n",
      "Requirement already satisfied: pygments in c:\\users\\lcastro\\appdata\\local\\continuum\\anaconda3\\envs\\amiautomation\\lib\\site-packages (from ipython>=4.0.0->ipywidgets) (2.7.3)\n",
      "Requirement already satisfied: decorator in c:\\users\\lcastro\\appdata\\local\\continuum\\anaconda3\\envs\\amiautomation\\lib\\site-packages (from ipython>=4.0.0->ipywidgets) (4.4.2)\n",
      "Requirement already satisfied: parso<0.8.0,>=0.7.0 in c:\\users\\lcastro\\appdata\\local\\continuum\\anaconda3\\envs\\amiautomation\\lib\\site-packages (from jedi>=0.10->ipython>=4.0.0->ipywidgets) (0.7.0)\n",
      "Requirement already satisfied: jupyter-core in c:\\users\\lcastro\\appdata\\local\\continuum\\anaconda3\\envs\\amiautomation\\lib\\site-packages (from nbformat>=4.2.0->ipywidgets) (4.7.0)\n",
      "Requirement already satisfied: jsonschema!=2.5.0,>=2.4 in c:\\users\\lcastro\\appdata\\local\\continuum\\anaconda3\\envs\\amiautomation\\lib\\site-packages (from nbformat>=4.2.0->ipywidgets) (3.2.0)\n",
      "Requirement already satisfied: attrs>=17.4.0 in c:\\users\\lcastro\\appdata\\local\\continuum\\anaconda3\\envs\\amiautomation\\lib\\site-packages (from jsonschema!=2.5.0,>=2.4->nbformat>=4.2.0->ipywidgets) (20.3.0)\n",
      "Requirement already satisfied: pyrsistent>=0.14.0 in c:\\users\\lcastro\\appdata\\local\\continuum\\anaconda3\\envs\\amiautomation\\lib\\site-packages (from jsonschema!=2.5.0,>=2.4->nbformat>=4.2.0->ipywidgets) (0.17.3)\n",
      "Requirement already satisfied: six>=1.11.0 in c:\\users\\lcastro\\appdata\\local\\continuum\\anaconda3\\envs\\amiautomation\\lib\\site-packages (from jsonschema!=2.5.0,>=2.4->nbformat>=4.2.0->ipywidgets) (1.15.0)\n",
      "Requirement already satisfied: wcwidth in c:\\users\\lcastro\\appdata\\local\\continuum\\anaconda3\\envs\\amiautomation\\lib\\site-packages (from prompt-toolkit!=3.0.0,!=3.0.1,<3.1.0,>=2.0.0->ipython>=4.0.0->ipywidgets) (0.2.5)\n",
      "Requirement already satisfied: notebook>=4.4.1 in c:\\users\\lcastro\\appdata\\local\\continuum\\anaconda3\\envs\\amiautomation\\lib\\site-packages (from widgetsnbextension~=3.5.0->ipywidgets) (6.3.0)\n",
      "Requirement already satisfied: prometheus-client in c:\\users\\lcastro\\appdata\\local\\continuum\\anaconda3\\envs\\amiautomation\\lib\\site-packages (from notebook>=4.4.1->widgetsnbextension~=3.5.0->ipywidgets) (0.10.1)\n",
      "Requirement already satisfied: Send2Trash>=1.5.0 in c:\\users\\lcastro\\appdata\\local\\continuum\\anaconda3\\envs\\amiautomation\\lib\\site-packages (from notebook>=4.4.1->widgetsnbextension~=3.5.0->ipywidgets) (1.5.0)\n",
      "Requirement already satisfied: nbconvert in c:\\users\\lcastro\\appdata\\local\\continuum\\anaconda3\\envs\\amiautomation\\lib\\site-packages (from notebook>=4.4.1->widgetsnbextension~=3.5.0->ipywidgets) (6.0.7)\n",
      "Requirement already satisfied: terminado>=0.8.3 in c:\\users\\lcastro\\appdata\\local\\continuum\\anaconda3\\envs\\amiautomation\\lib\\site-packages (from notebook>=4.4.1->widgetsnbextension~=3.5.0->ipywidgets) (0.9.4)\n",
      "Requirement already satisfied: argon2-cffi in c:\\users\\lcastro\\appdata\\local\\continuum\\anaconda3\\envs\\amiautomation\\lib\\site-packages (from notebook>=4.4.1->widgetsnbextension~=3.5.0->ipywidgets) (20.1.0)\n",
      "Requirement already satisfied: jinja2 in c:\\users\\lcastro\\appdata\\local\\continuum\\anaconda3\\envs\\amiautomation\\lib\\site-packages (from notebook>=4.4.1->widgetsnbextension~=3.5.0->ipywidgets) (2.11.2)\n",
      "Requirement already satisfied: pyzmq>=17 in c:\\users\\lcastro\\appdata\\local\\continuum\\anaconda3\\envs\\amiautomation\\lib\\site-packages (from notebook>=4.4.1->widgetsnbextension~=3.5.0->ipywidgets) (20.0.0)\n",
      "Requirement already satisfied: python-dateutil>=2.1 in c:\\users\\lcastro\\appdata\\local\\continuum\\anaconda3\\envs\\amiautomation\\lib\\site-packages (from jupyter-client->ipykernel>=4.5.1->ipywidgets) (2.8.1)\n",
      "Requirement already satisfied: pywin32>=1.0 in c:\\users\\lcastro\\appdata\\local\\continuum\\anaconda3\\envs\\amiautomation\\lib\\site-packages (from jupyter-core->nbformat>=4.2.0->ipywidgets) (227)\n",
      "Requirement already satisfied: pywinpty>=0.5 in c:\\users\\lcastro\\appdata\\local\\continuum\\anaconda3\\envs\\amiautomation\\lib\\site-packages (from terminado>=0.8.3->notebook>=4.4.1->widgetsnbextension~=3.5.0->ipywidgets) (0.5.7)\n",
      "Requirement already satisfied: cffi>=1.0.0 in c:\\users\\lcastro\\appdata\\local\\continuum\\anaconda3\\envs\\amiautomation\\lib\\site-packages (from argon2-cffi->notebook>=4.4.1->widgetsnbextension~=3.5.0->ipywidgets) (1.14.4)\n",
      "Requirement already satisfied: pycparser in c:\\users\\lcastro\\appdata\\local\\continuum\\anaconda3\\envs\\amiautomation\\lib\\site-packages (from cffi>=1.0.0->argon2-cffi->notebook>=4.4.1->widgetsnbextension~=3.5.0->ipywidgets) (2.20)\n",
      "Requirement already satisfied: MarkupSafe>=0.23 in c:\\users\\lcastro\\appdata\\local\\continuum\\anaconda3\\envs\\amiautomation\\lib\\site-packages (from jinja2->notebook>=4.4.1->widgetsnbextension~=3.5.0->ipywidgets) (1.1.1)\n",
      "Requirement already satisfied: testpath in c:\\users\\lcastro\\appdata\\local\\continuum\\anaconda3\\envs\\amiautomation\\lib\\site-packages (from nbconvert->notebook>=4.4.1->widgetsnbextension~=3.5.0->ipywidgets) (0.4.4)\n",
      "Requirement already satisfied: nbclient<0.6.0,>=0.5.0 in c:\\users\\lcastro\\appdata\\local\\continuum\\anaconda3\\envs\\amiautomation\\lib\\site-packages (from nbconvert->notebook>=4.4.1->widgetsnbextension~=3.5.0->ipywidgets) (0.5.1)\n",
      "Requirement already satisfied: bleach in c:\\users\\lcastro\\appdata\\local\\continuum\\anaconda3\\envs\\amiautomation\\lib\\site-packages (from nbconvert->notebook>=4.4.1->widgetsnbextension~=3.5.0->ipywidgets) (3.2.1)\n",
      "Requirement already satisfied: pandocfilters>=1.4.1 in c:\\users\\lcastro\\appdata\\local\\continuum\\anaconda3\\envs\\amiautomation\\lib\\site-packages (from nbconvert->notebook>=4.4.1->widgetsnbextension~=3.5.0->ipywidgets) (1.4.3)\n",
      "Requirement already satisfied: defusedxml in c:\\users\\lcastro\\appdata\\local\\continuum\\anaconda3\\envs\\amiautomation\\lib\\site-packages (from nbconvert->notebook>=4.4.1->widgetsnbextension~=3.5.0->ipywidgets) (0.6.0)\n",
      "Requirement already satisfied: mistune<2,>=0.8.1 in c:\\users\\lcastro\\appdata\\local\\continuum\\anaconda3\\envs\\amiautomation\\lib\\site-packages (from nbconvert->notebook>=4.4.1->widgetsnbextension~=3.5.0->ipywidgets) (0.8.4)\n",
      "Requirement already satisfied: jupyterlab-pygments in c:\\users\\lcastro\\appdata\\local\\continuum\\anaconda3\\envs\\amiautomation\\lib\\site-packages (from nbconvert->notebook>=4.4.1->widgetsnbextension~=3.5.0->ipywidgets) (0.1.2)\n",
      "Requirement already satisfied: entrypoints>=0.2.2 in c:\\users\\lcastro\\appdata\\local\\continuum\\anaconda3\\envs\\amiautomation\\lib\\site-packages (from nbconvert->notebook>=4.4.1->widgetsnbextension~=3.5.0->ipywidgets) (0.3)\n",
      "Requirement already satisfied: async-generator in c:\\users\\lcastro\\appdata\\local\\continuum\\anaconda3\\envs\\amiautomation\\lib\\site-packages (from nbclient<0.6.0,>=0.5.0->nbconvert->notebook>=4.4.1->widgetsnbextension~=3.5.0->ipywidgets) (1.10)\n",
      "Requirement already satisfied: nest-asyncio in c:\\users\\lcastro\\appdata\\local\\continuum\\anaconda3\\envs\\amiautomation\\lib\\site-packages (from nbclient<0.6.0,>=0.5.0->nbconvert->notebook>=4.4.1->widgetsnbextension~=3.5.0->ipywidgets) (1.4.3)\n",
      "Requirement already satisfied: webencodings in c:\\users\\lcastro\\appdata\\local\\continuum\\anaconda3\\envs\\amiautomation\\lib\\site-packages (from bleach->nbconvert->notebook>=4.4.1->widgetsnbextension~=3.5.0->ipywidgets) (0.5.1)\n",
      "Requirement already satisfied: packaging in c:\\users\\lcastro\\appdata\\local\\continuum\\anaconda3\\envs\\amiautomation\\lib\\site-packages (from bleach->nbconvert->notebook>=4.4.1->widgetsnbextension~=3.5.0->ipywidgets) (20.8)\n",
      "Requirement already satisfied: pyparsing>=2.0.2 in c:\\users\\lcastro\\appdata\\local\\continuum\\anaconda3\\envs\\amiautomation\\lib\\site-packages (from packaging->bleach->nbconvert->notebook>=4.4.1->widgetsnbextension~=3.5.0->ipywidgets) (2.4.7)\n",
      "Installing collected packages: widgetsnbextension, jupyterlab-widgets, ipywidgets\n",
      "Successfully installed ipywidgets-7.6.5 jupyterlab-widgets-1.0.2 widgetsnbextension-3.5.2\n",
      "Note: you may need to restart the kernel to use updated packages.\n"
     ]
    },
    {
     "name": "stderr",
     "output_type": "stream",
     "text": [
      "WARNING: Ignoring invalid distribution -miautomation (c:\\users\\lcastro\\appdata\\local\\continuum\\anaconda3\\envs\\amiautomation\\lib\\site-packages)\n",
      "WARNING: Ignoring invalid distribution -miautomation (c:\\users\\lcastro\\appdata\\local\\continuum\\anaconda3\\envs\\amiautomation\\lib\\site-packages)\n",
      "WARNING: Ignoring invalid distribution -miautomation (c:\\users\\lcastro\\appdata\\local\\continuum\\anaconda3\\envs\\amiautomation\\lib\\site-packages)\n",
      "WARNING: Ignoring invalid distribution -miautomation (c:\\users\\lcastro\\appdata\\local\\continuum\\anaconda3\\envs\\amiautomation\\lib\\site-packages)\n",
      "WARNING: Ignoring invalid distribution -miautomation (c:\\users\\lcastro\\appdata\\local\\continuum\\anaconda3\\envs\\amiautomation\\lib\\site-packages)\n",
      "WARNING: Ignoring invalid distribution -miautomation (c:\\users\\lcastro\\appdata\\local\\continuum\\anaconda3\\envs\\amiautomation\\lib\\site-packages)\n",
      "WARNING: Ignoring invalid distribution -miautomation (c:\\users\\lcastro\\appdata\\local\\continuum\\anaconda3\\envs\\amiautomation\\lib\\site-packages)\n",
      "WARNING: Ignoring invalid distribution -miautomation (c:\\users\\lcastro\\appdata\\local\\continuum\\anaconda3\\envs\\amiautomation\\lib\\site-packages)\n",
      "WARNING: Ignoring invalid distribution -miautomation (c:\\users\\lcastro\\appdata\\local\\continuum\\anaconda3\\envs\\amiautomation\\lib\\site-packages)\n",
      "WARNING: You are using pip version 21.2.4; however, version 22.0.3 is available.\n",
      "You should consider upgrading via the 'C:\\Users\\LCastro\\AppData\\Local\\Continuum\\anaconda3\\envs\\AmiAutomation\\python.exe -m pip install --upgrade pip' command.\n"
     ]
    }
   ],
   "source": [
    "pip install ipywidgets"
   ]
  },
  {
   "cell_type": "code",
   "execution_count": 3,
   "metadata": {},
   "outputs": [
    {
     "data": {
      "application/vnd.jupyter.widget-view+json": {
       "model_id": "ff86d272ed144e3080b83dd1526617dd",
       "version_major": 2,
       "version_minor": 0
      },
      "text/plain": [
       "ToggleButton(value=False, button_style='success', description='Iniciar Launch', icon='rocket', tooltip='Engage…"
      ]
     },
     "metadata": {},
     "output_type": "display_data"
    },
    {
     "data": {
      "application/vnd.jupyter.widget-view+json": {
       "model_id": "d71a978c62694a3fbd3816491d26549c",
       "version_major": 2,
       "version_minor": 0
      },
      "text/plain": [
       "Output()"
      ]
     },
     "metadata": {},
     "output_type": "display_data"
    }
   ],
   "source": [
    "import ipywidgets as widgets\n",
    "\n",
    "ignition = widgets.ToggleButton(\n",
    "    value=False,\n",
    "    description='Iniciar Launch',\n",
    "    button_style='success',\n",
    "    tooltip='Engage your Launch',\n",
    "    icon='rocket'\n",
    ")\n",
    "\n",
    "output = widgets.Output()\n",
    "\n",
    "display(ignition, output)\n",
    "\n",
    "def on_value_change(change):\n",
    "    with output:\n",
    "        if change['new'] == True:\n",
    "            print(\"Nave Iniciada!\")\n",
    "        else:   \n",
    "            print(\"Nave Detenida\")\n",
    "\n",
    "ignition.observe(on_value_change, names='value')\n",
    "\n"
   ]
  },
  {
   "cell_type": "code",
   "execution_count": null,
   "metadata": {},
   "outputs": [],
   "source": [
    "!pip install matplotlib\n",
    "!pip install numpy"
   ]
  },
  {
   "cell_type": "markdown",
   "metadata": {},
   "source": [
    "## Niveles de Oxígeno\n",
    "\n",
    "Muestra diez minutos de niveles de oxígeno en tu nave."
   ]
  },
  {
   "cell_type": "code",
   "execution_count": 6,
   "metadata": {},
   "outputs": [
    {
     "data": {
      "image/png": "[encoded data removed]",
      "text/plain": [
       "<Figure size 432x288 with 1 Axes>"
      ]
     },
     "metadata": {
      "needs_background": "light"
     },
     "output_type": "display_data"
    }
   ],
   "source": [
    "import numpy as np\n",
    "import matplotlib.pyplot as plt\n",
    "data = np.random.default_rng(12345)\n",
    "oxy_nums = data.integers(low=0, high=10, size=10)\n",
    "\n",
    "plt.bar(range(len(oxy_nums)), oxy_nums)\n",
    "plt.show()"
   ]
  },
  {
   "cell_type": "markdown",
   "metadata": {},
   "source": [
    "## Velocidad de la nave\n",
    "\n",
    "Muestra los segundos necesarios para pasar de 0 a 11200 metros por segundo, dada la aceleración de la nave en metros por segundo."
   ]
  },
  {
   "cell_type": "code",
   "execution_count": 8,
   "metadata": {},
   "outputs": [
    {
     "name": "stdout",
     "output_type": "stream",
     "text": [
      "Tiempo para alcanzar la velocidad deseada =  1.0204081632653061\n"
     ]
    }
   ],
   "source": [
    "endVelocity = 10\n",
    "startVelocity = 0\n",
    "acceleration = 9.8\n",
    "\n",
    "time = (endVelocity - startVelocity) / acceleration\n",
    "print(\"Tiempo para alcanzar la velocidad deseada = \", time)"
   ]
  }
 ],
 "metadata": {
  "interpreter": {
   "hash": "aefca127c4930ce72cc9cb13233053d2f9cdc7c49b974875cdc83fc3ae1098cf"
  },
  "kernelspec": {
   "display_name": "Python 3.8.5 ('AmiAutomation')",
   "language": "python",
   "name": "python3"
  },
  "language_info": {
   "codemirror_mode": {
    "name": "ipython",
    "version": 3
   },
   "file_extension": ".py",
   "mimetype": "text/x-python",
   "name": "python",
   "nbconvert_exporter": "python",
   "pygments_lexer": "ipython3",
   "version": "3.8.5"
  },
  "orig_nbformat": 4
 },
 "nbformat": 4,
 "nbformat_minor": 2
}
